{
 "cells": [
  {
   "cell_type": "markdown",
   "metadata": {},
   "source": [
    "# Exploratory Data Analysis"
   ]
  },
  {
   "cell_type": "markdown",
   "metadata": {},
   "source": [
    "## Data Loading"
   ]
  },
  {
   "cell_type": "code",
   "execution_count": 2,
   "metadata": {},
   "outputs": [],
   "source": [
    "import os\n",
    "import os.path as path\n",
    "import scipy.io.wavfile as wavfile\n",
    "\n",
    "metadata = {}\n",
    "data_dir = os.path.join(\"..\", \"data\", \"raw\")\n",
    "metadata['data_dir'] = data_dir\n",
    "metadata['path'] = []\n",
    "metadata['label'] = []\n",
    "class_1_speakers = ['f1', 'f7', 'f8', 'm3', 'm6', 'm8']\n",
    "for root, dirs, files in os.walk(data_dir):\n",
    "    for file in files:\n",
    "        if file.endswith(\".wav\"):\n",
    "            metadata['path'].append(file)\n",
    "            speaker_id = file.split('_')[0]\n",
    "            label = 1 if speaker_id in class_1_speakers else 0\n",
    "            metadata['label'].append(label)\n",
    "            \n",
    "            \n",
    "audios = [ wavfile.read(path.join(\"..\", \"data\", \"raw\", audio_path)) for audio_path in metadata['path'] ]\n",
    "metadata['rate'] = [ sample_rate for sample_rate, _ in audios ]\n",
    "metadata['signal'] = [ wave for _, wave in audios ]\n"
   ]
  },
  {
   "cell_type": "code",
   "execution_count": null,
   "metadata": {},
   "outputs": [],
   "source": []
  }
 ],
 "metadata": {
  "kernelspec": {
   "display_name": "iml",
   "language": "python",
   "name": "python3"
  },
  "language_info": {
   "codemirror_mode": {
    "name": "ipython",
    "version": 3
   },
   "file_extension": ".py",
   "mimetype": "text/x-python",
   "name": "python",
   "nbconvert_exporter": "python",
   "pygments_lexer": "ipython3",
   "version": "3.12.6"
  }
 },
 "nbformat": 4,
 "nbformat_minor": 2
}
